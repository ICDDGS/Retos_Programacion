{
 "cells": [
  {
   "cell_type": "markdown",
   "id": "2afa61ca",
   "metadata": {},
   "source": [
    "'''\n",
    " * Escribe un programa que reciba un texto y transforme lenguaje natural a\n",
    " * \"lenguaje hacker\" (conocido realmente como \"leet\" o \"1337\"). Este lenguaje\n",
    " *  se caracteriza por sustituir caracteres alfanuméricos.\n",
    " * - Utiliza esta tabla (https://www.gamehouse.com/blog/leet-speak-cheat-sheet/) \n",
    " *   con el alfabeto y los números en \"leet\".\n",
    " *   (Usa la primera opción de cada transformación. Por ejemplo \"4\" para la \"a\")\n",
    "'''"
   ]
  },
  {
   "cell_type": "code",
   "execution_count": 21,
   "id": "e41589c8",
   "metadata": {},
   "outputs": [],
   "source": [
    "# Creación de un diccionario\n",
    "leet = {\n",
    "    #minusculas\n",
    "    'a': '4',\n",
    "    'b': '|3',\n",
    "    'c': '[',\n",
    "    'd': ')',\n",
    "    'e': '3',\n",
    "    'f': '|=',\n",
    "    'g': '&',\n",
    "    'h': '#',\n",
    "    'i': '1',\n",
    "    'j': ',_|',\n",
    "    'k': '>|',\n",
    "    'l': '1',\n",
    "    'm': '^^',\n",
    "    'n': '^/',\n",
    "    'o': '0',\n",
    "    'p': '|*',\n",
    "    'q': '(_,)',\n",
    "    'r': 'l2',\n",
    "    's': '5',\n",
    "    't': '7',\n",
    "    'u': '(_)',\n",
    "    'v': '\\/',\n",
    "    'w': 'vv',\n",
    "    'x': '><',\n",
    "    'y': 'j',\n",
    "    'z': '2',\n",
    "    #mayusculas\n",
    "    'A': '4',\n",
    "    'B': '|3',\n",
    "    'C': '[',\n",
    "    'D': ')',\n",
    "    'E': '3',\n",
    "    'F': '|=',\n",
    "    'G': '&',\n",
    "    'H': '#',\n",
    "    'I': '1',\n",
    "    'J': ',_|',\n",
    "    'K': '>|',\n",
    "    'L': '1',\n",
    "    'M': '^^',\n",
    "    'N': '^/',\n",
    "    'O': '0',\n",
    "    'P': '|*',\n",
    "    'Q': '(_,)',\n",
    "    'R': 'l2',\n",
    "    'S': '5',\n",
    "    'T': '7',\n",
    "    'U': '(_)',\n",
    "    'V': '\\/',\n",
    "    'W': 'vv',\n",
    "    'X': '><',\n",
    "    'Y': 'j',\n",
    "    'Z': '2'\n",
    "}\n",
    "\n"
   ]
  },
  {
   "cell_type": "code",
   "execution_count": 22,
   "id": "f191772e",
   "metadata": {},
   "outputs": [],
   "source": [
    "def transformacion_LH(palabra):\n",
    "    temp=\"\"\n",
    "    for i in range (0,len(palabra)):\n",
    "        #print(leet[str(palabra[i])])\n",
    "        temp=temp+leet[str(palabra[i])]\n",
    "    return (temp)"
   ]
  },
  {
   "cell_type": "code",
   "execution_count": 23,
   "id": "fca693a7",
   "metadata": {},
   "outputs": [
    {
     "name": "stdout",
     "output_type": "stream",
     "text": [
      "|*\n",
      "l2\n",
      "(_)\n",
      "3\n",
      "|3\n",
      "4\n",
      "|*l2(_)3|34\n"
     ]
    }
   ],
   "source": [
    "palabra = \"prueba\"\n",
    "print(transformacion_LH(palabra))"
   ]
  },
  {
   "cell_type": "code",
   "execution_count": null,
   "id": "2f925bf9",
   "metadata": {},
   "outputs": [],
   "source": []
  }
 ],
 "metadata": {
  "kernelspec": {
   "display_name": "Python 3 (ipykernel)",
   "language": "python",
   "name": "python3"
  },
  "language_info": {
   "codemirror_mode": {
    "name": "ipython",
    "version": 3
   },
   "file_extension": ".py",
   "mimetype": "text/x-python",
   "name": "python",
   "nbconvert_exporter": "python",
   "pygments_lexer": "ipython3",
   "version": "3.11.3"
  }
 },
 "nbformat": 4,
 "nbformat_minor": 5
}
